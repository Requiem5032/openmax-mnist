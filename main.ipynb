{
 "cells": [
  {
   "cell_type": "code",
   "execution_count": null,
   "metadata": {
    "tags": []
   },
   "outputs": [],
   "source": [
    "import os\n",
    "import numpy as np\n",
    "import tensorflow as tf\n",
    "import random\n",
    "\n",
    "from utils.data_loader import get_train_test, get_train_test_fashion\n",
    "from utils.openmax import create_model, get_activations, compute_openmax\n",
    "from utils.openmax_utils import image_show, get_openmax_predict"
   ]
  },
  {
   "cell_type": "code",
   "execution_count": null,
   "metadata": {},
   "outputs": [],
   "source": [
    "print('Num GPUs Available: ', len(tf.config.list_physical_devices('GPU')))"
   ]
  },
  {
   "cell_type": "code",
   "execution_count": null,
   "metadata": {},
   "outputs": [],
   "source": [
    "gpus = tf.config.list_physical_devices('GPU')\n",
    "if gpus:\n",
    "    try:\n",
    "        tf.config.set_visible_devices(gpus[0], 'GPU')\n",
    "        tf.config.experimental.set_memory_growth(gpus[0], True)\n",
    "        logical_gpus = tf.config.list_logical_devices('GPU')\n",
    "        print(len(gpus), \"Physical GPUs,\", len(logical_gpus), \"Logical GPU\")\n",
    "    except RuntimeError as e:\n",
    "        print(e)"
   ]
  },
  {
   "cell_type": "code",
   "execution_count": null,
   "metadata": {},
   "outputs": [],
   "source": [
    "SEED = 0\n",
    "IMG_DIM = 28"
   ]
  },
  {
   "cell_type": "code",
   "execution_count": null,
   "metadata": {},
   "outputs": [],
   "source": [
    "random.seed(SEED)\n",
    "tf.random.set_seed(SEED)\n",
    "np.random.seed(SEED)"
   ]
  },
  {
   "cell_type": "code",
   "execution_count": null,
   "metadata": {},
   "outputs": [],
   "source": [
    "model = tf.keras.models.load_model('models/mnist.h5')"
   ]
  },
  {
   "cell_type": "code",
   "execution_count": null,
   "metadata": {},
   "outputs": [],
   "source": [
    "model.summary()"
   ]
  },
  {
   "cell_type": "code",
   "execution_count": null,
   "metadata": {},
   "outputs": [],
   "source": [
    "train_ds, _ = get_train_test(training=True)"
   ]
  },
  {
   "cell_type": "code",
   "execution_count": null,
   "metadata": {
    "tags": []
   },
   "outputs": [],
   "source": [
    "create_model(model, train_ds) # Only need to run this once"
   ]
  },
  {
   "cell_type": "code",
   "execution_count": null,
   "metadata": {},
   "outputs": [],
   "source": [
    "test_ds = get_train_test(training=False)\n",
    "x_test, y_test = test_ds.get_all()\n",
    "\n",
    "for i in range(5):\n",
    "    random_char = np.random.randint(0, len(x_test))\n",
    "\n",
    "    test_x1 = x_test[random_char]\n",
    "    test_y1 = y_test[random_char]\n",
    "\n",
    "    logits, softmax = get_activations(\n",
    "        test_x1.reshape(-1, IMG_DIM, IMG_DIM, 1), model)\n",
    "\n",
    "    openmax, _ = compute_openmax(logits)\n",
    "    print(f'SoftMax Sum: {np.sum(softmax)}')\n",
    "    print(f'OpenMax Sum: {np.sum(openmax)}')\n",
    "    print(f'True Label: {test_y1}')\n",
    "    print(f'SoftMax Label: {np.argmax(softmax)}')\n",
    "    print(f'OpenMax Label: {get_openmax_predict(openmax)}')\n",
    "    image_show(test_x1)"
   ]
  },
  {
   "cell_type": "code",
   "execution_count": null,
   "metadata": {},
   "outputs": [],
   "source": [
    "test_u_ds = get_train_test_fashion(training=False)\n",
    "x_test, _ = test_u_ds.get_all()\n",
    "\n",
    "for i in range(5):\n",
    "    random_char = np.random.randint(0, len(x_test))\n",
    "\n",
    "    test_x1 = x_test[random_char]\n",
    "\n",
    "    logits, softmax = get_activations(\n",
    "        test_x1.reshape(-1, IMG_DIM, IMG_DIM, 1), model)\n",
    "\n",
    "    openmax, _ = compute_openmax(logits)\n",
    "    print(f'SoftMax Sum: {np.sum(softmax)}')\n",
    "    print(f'OpenMax Sum: {np.sum(openmax)}')\n",
    "    print(f'True Label: 10')\n",
    "    print(f'SoftMax Label: {np.argmax(softmax)}')\n",
    "    print(f'OpenMax Label: {get_openmax_predict(openmax)}')\n",
    "    image_show(test_x1)"
   ]
  }
 ],
 "metadata": {
  "kernelspec": {
   "display_name": ".venv",
   "language": "python",
   "name": "python3"
  },
  "language_info": {
   "codemirror_mode": {
    "name": "ipython",
    "version": 3
   },
   "file_extension": ".py",
   "mimetype": "text/x-python",
   "name": "python",
   "nbconvert_exporter": "python",
   "pygments_lexer": "ipython3",
   "version": "3.11.2"
  }
 },
 "nbformat": 4,
 "nbformat_minor": 2
}
